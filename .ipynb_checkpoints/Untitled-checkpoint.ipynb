{
 "cells": [
  {
   "cell_type": "markdown",
   "metadata": {},
   "source": [
    "# Wow this is confusing \n",
    "\n",
    "**Dhong Yeon Cheong**\n",
    "\n",
    ">**Department of Physics, Yonsei University**\n",
    "\n",
    "This notebook is the very first one I've written in my entire life,\n"
   ]
  },
  {
   "cell_type": "markdown",
   "metadata": {},
   "source": [
    "so please understand the uncomfortable style of the following document."
   ]
  },
  {
   "cell_type": "markdown",
   "metadata": {},
   "source": [
    "**Energy of the Harmonic Oscillator**\n",
    "<br>\n",
    "The equation of the energy for the quantum harmonic oscillator is as following,\n",
    ">>\\begin{equation*}\n",
    "E_n = \\hbar\\omega(n+\\frac{1}{2})\n",
    "\\end{equation*}\n",
    "\n",
    "I wrote a code to calculate the energy of the oscillator by inputing the value of the principle quantum number. "
   ]
  },
  {
   "cell_type": "code",
   "execution_count": 8,
   "metadata": {},
   "outputs": [
    {
     "name": "stdout",
     "output_type": "stream",
     "text": [
      "principle quantum number? 5\n",
      "E_n=5.5h\n",
      "3.6443384637e-33eV\n"
     ]
    }
   ],
   "source": [
    "#%%\n",
    "n = int(input(\"principle quantum number? \"))\n",
    "\n",
    "if n>=0:\n",
    "    E = (n+1/2)\n",
    "    E = str(E)\n",
    "    print(\"E_n=\"+E+\"h\")\n",
    "    h = 6.626069934*(10**(-34))\n",
    "    E = float(E)\n",
    "    EC = h*E\n",
    "    EC = str(EC)\n",
    "    print(EC+\"eV\")\n",
    "    \n",
    "else:\n",
    "    print(\"input a posivite value u dumbell\")\n",
    "\n"
   ]
  },
  {
   "cell_type": "code",
   "execution_count": 11,
   "metadata": {},
   "outputs": [
    {
     "data": {
      "text/plain": [
       "5.5"
      ]
     },
     "execution_count": 11,
     "metadata": {},
     "output_type": "execute_result"
    }
   ],
   "source": [
    "E"
   ]
  },
  {
   "cell_type": "markdown",
   "metadata": {},
   "source": [
    "**Code for Differentiation**\n",
    "<br>\n",
    "\n"
   ]
  },
  {
   "cell_type": "code",
   "execution_count": 21,
   "metadata": {
    "collapsed": true
   },
   "outputs": [],
   "source": [
    "import numpy as np\n",
    "import pylab as plt\n",
    "import seaborn as sns\n",
    "import pandas as pd"
   ]
  },
  {
   "cell_type": "code",
   "execution_count": 50,
   "metadata": {
    "collapsed": true
   },
   "outputs": [],
   "source": [
    "class Derivative:\n",
    "  def __init__(self, f, h=10**(-5)):\n",
    "      self.f = f\n",
    "      self.h = float(h)\n",
    "\n",
    "  def __call__(self, x):\n",
    "      return (self.f(x+self.h) - self.f(x))/self.h\n",
    "\n",
    "\n"
   ]
  },
  {
   "cell_type": "code",
   "execution_count": 78,
   "metadata": {},
   "outputs": [
    {
     "name": "stdout",
     "output_type": "stream",
     "text": [
      "d(sin, 0)=\n",
      "0.9999999999833332\n",
      "d(cos, 0)=\n",
      "-5.000000413701855e-06\n",
      "d(cos, 0)=\n",
      "1.000005000006965\n",
      "d(x^2, 0)=\n",
      "1e-05\n",
      "d(ln, 0)=\n"
     ]
    },
    {
     "ename": "ValueError",
     "evalue": "math domain error",
     "output_type": "error",
     "traceback": [
      "\u001b[0;31m---------------------------------------------------------------------------\u001b[0m",
      "\u001b[0;31mValueError\u001b[0m                                Traceback (most recent call last)",
      "\u001b[0;32m<ipython-input-78-09853cca6956>\u001b[0m in \u001b[0;36m<module>\u001b[0;34m()\u001b[0m\n\u001b[1;32m     27\u001b[0m \u001b[0mx\u001b[0m \u001b[0;34m=\u001b[0m \u001b[0;36m0\u001b[0m\u001b[0;34m\u001b[0m\u001b[0m\n\u001b[1;32m     28\u001b[0m \u001b[0mprint\u001b[0m\u001b[0;34m(\u001b[0m\u001b[0;34m\"d(ln, 0)=\"\u001b[0m\u001b[0;34m)\u001b[0m\u001b[0;34m\u001b[0m\u001b[0m\n\u001b[0;32m---> 29\u001b[0;31m \u001b[0mprint\u001b[0m\u001b[0;34m(\u001b[0m\u001b[0mdf\u001b[0m\u001b[0;34m(\u001b[0m\u001b[0mx\u001b[0m\u001b[0;34m)\u001b[0m\u001b[0;34m)\u001b[0m\u001b[0;34m\u001b[0m\u001b[0m\n\u001b[0m",
      "\u001b[0;32m<ipython-input-50-4a1b4d3193f0>\u001b[0m in \u001b[0;36m__call__\u001b[0;34m(self, x)\u001b[0m\n\u001b[1;32m      5\u001b[0m \u001b[0;34m\u001b[0m\u001b[0m\n\u001b[1;32m      6\u001b[0m   \u001b[0;32mdef\u001b[0m \u001b[0m__call__\u001b[0m\u001b[0;34m(\u001b[0m\u001b[0mself\u001b[0m\u001b[0;34m,\u001b[0m \u001b[0mx\u001b[0m\u001b[0;34m)\u001b[0m\u001b[0;34m:\u001b[0m\u001b[0;34m\u001b[0m\u001b[0m\n\u001b[0;32m----> 7\u001b[0;31m       \u001b[0;32mreturn\u001b[0m \u001b[0;34m(\u001b[0m\u001b[0mself\u001b[0m\u001b[0;34m.\u001b[0m\u001b[0mf\u001b[0m\u001b[0;34m(\u001b[0m\u001b[0mx\u001b[0m\u001b[0;34m+\u001b[0m\u001b[0mself\u001b[0m\u001b[0;34m.\u001b[0m\u001b[0mh\u001b[0m\u001b[0;34m)\u001b[0m \u001b[0;34m-\u001b[0m \u001b[0mself\u001b[0m\u001b[0;34m.\u001b[0m\u001b[0mf\u001b[0m\u001b[0;34m(\u001b[0m\u001b[0mx\u001b[0m\u001b[0;34m)\u001b[0m\u001b[0;34m)\u001b[0m\u001b[0;34m/\u001b[0m\u001b[0mself\u001b[0m\u001b[0;34m.\u001b[0m\u001b[0mh\u001b[0m\u001b[0;34m\u001b[0m\u001b[0m\n\u001b[0m\u001b[1;32m      8\u001b[0m \u001b[0;34m\u001b[0m\u001b[0m\n\u001b[1;32m      9\u001b[0m \u001b[0;34m\u001b[0m\u001b[0m\n",
      "\u001b[0;31mValueError\u001b[0m: math domain error"
     ]
    }
   ],
   "source": [
    "from math import sin, cos, exp, log\n",
    "\n",
    "df = Derivative(sin)\n",
    "x = 0\n",
    "print(\"d(sin, 0)=\")\n",
    "print(df(x))\n",
    "\n",
    "df = Derivative(cos)\n",
    "x = 0\n",
    "print(\"d(cos, 0)=\")\n",
    "print(df(x))\n",
    "\n",
    "df = Derivative(exp)\n",
    "x = 0\n",
    "print(\"d(cos, 0)=\")\n",
    "print(df(x))\n",
    "\n",
    "def y(x):\n",
    "    return x**2\n",
    "\n",
    "df = Derivative(y)\n",
    "x = 0\n",
    "print(\"d(x^2, 0)=\")\n",
    "print(df(x))\n",
    "\n",
    "df = Derivative(log)\n",
    "x = 0\n",
    "print(\"d(ln, 0)=\")\n",
    "print(df(x))"
   ]
  },
  {
   "cell_type": "code",
   "execution_count": null,
   "metadata": {},
   "outputs": [],
   "source": []
  },
  {
   "cell_type": "code",
   "execution_count": null,
   "metadata": {
    "collapsed": true
   },
   "outputs": [],
   "source": []
  },
  {
   "cell_type": "code",
   "execution_count": null,
   "metadata": {
    "collapsed": true
   },
   "outputs": [],
   "source": []
  },
  {
   "cell_type": "markdown",
   "metadata": {},
   "source": []
  },
  {
   "cell_type": "markdown",
   "metadata": {},
   "source": []
  }
 ],
 "metadata": {
  "kernelspec": {
   "display_name": "Python 3",
   "language": "python",
   "name": "python3"
  },
  "language_info": {
   "codemirror_mode": {
    "name": "ipython",
    "version": 3
   },
   "file_extension": ".py",
   "mimetype": "text/x-python",
   "name": "python",
   "nbconvert_exporter": "python",
   "pygments_lexer": "ipython3",
   "version": "3.6.1"
  }
 },
 "nbformat": 4,
 "nbformat_minor": 2
}
