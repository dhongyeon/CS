{
 "cells": [
  {
   "cell_type": "code",
   "execution_count": 4,
   "metadata": {},
   "outputs": [
    {
     "name": "stdout",
     "output_type": "stream",
     "text": [
      "principle quantum number? 5\n",
      "E_n=5.5h\n",
      "3.6443384637e-33eV\n"
     ]
    }
   ],
   "source": [
    "#%%\n",
    "n = int(input(\"principle quantum number? \"))\n",
    "if n>=0:\n",
    "    E = (n+1/2)\n",
    "    E = str(E)\n",
    "    print(\"E_n=\"+E+\"h\")\n",
    "    h = 6.626069934*(10**(-34))\n",
    "    E = float(E)\n",
    "    EC = h*E\n",
    "    EC = str(EC)\n",
    "    print(EC+\"eV\")\n",
    "else:\n",
    "    print(\"input a posivite value u dumbell\")\n"
   ]
  },
  {
   "cell_type": "code",
   "execution_count": 3,
   "metadata": {
    "collapsed": true
   },
   "outputs": [],
   "source": [
    "import numpy as np\n",
    "import pylab as plt\n",
    "import seaborn as sns\n",
    "import pandas as pd\n",
    "\n",
    "class Derivative:\n",
    "  def __init__(self, f):\n",
    "      self.f = f\n",
    "      self.h = 1e-04\n",
    "\n",
    "  def Differentiate(self, x):\n",
    "      return (self.f(x+self.h) - self.f(x))/self.h\n",
    "\n",
    "  def __call__(self, x):\n",
    "      return Differentiate(x)\n"
   ]
  },
  {
   "cell_type": "code",
   "execution_count": null,
   "metadata": {
    "collapsed": true
   },
   "outputs": [],
   "source": []
  }
 ],
 "metadata": {
  "kernelspec": {
   "display_name": "Python 3",
   "language": "python",
   "name": "python3"
  },
  "language_info": {
   "codemirror_mode": {
    "name": "ipython",
    "version": 3
   },
   "file_extension": ".py",
   "mimetype": "text/x-python",
   "name": "python",
   "nbconvert_exporter": "python",
   "pygments_lexer": "ipython3",
   "version": "3.6.1"
  }
 },
 "nbformat": 4,
 "nbformat_minor": 2
}
