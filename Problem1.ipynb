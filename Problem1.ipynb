{
 "cells": [
  {
   "cell_type": "markdown",
   "metadata": {},
   "source": [
    "# Wow This is REALLY Confusing \n",
    "\n",
    "**Dhong Yeon Cheong**\n",
    "<br>\n",
    "**Department of Physics, Yonsei University**\n",
    "\n",
    "This notebook is the very first one I've written in my entire life, \n",
    "so please, bear with the discomforting style of the following document"
   ]
  },
  {
   "cell_type": "markdown",
   "metadata": {},
   "source": [
    "**Energy of the Harmonic Oscillator**\n",
    "<br>\n",
    "The equation of the energy for the quantum harmonic oscillator is as following,\n",
    ">>\\begin{equation*}\n",
    "E_n = \\hbar\\omega(n+\\frac{1}{2})\n",
    "\\end{equation*}\n",
    "\n",
    "I wrote a code to calculate the energy of the oscillator by inputing the value of the principle quantum number. "
   ]
  },
  {
   "cell_type": "code",
   "execution_count": 1,
   "metadata": {},
   "outputs": [
    {
     "name": "stdout",
     "output_type": "stream",
     "text": [
      "principle quantum number? 5\n",
      "E_n=5.5h\n",
      "3.6443384637e-33eV\n"
     ]
    }
   ],
   "source": [
    "#%%\n",
    "n = int(input(\"principle quantum number? \"))\n",
    "\n",
    "if n>=0:\n",
    "    E = (n+1/2)\n",
    "    E = str(E)\n",
    "    print(\"E_n=\"+E+\"h\")\n",
    "    h = 6.626069934*(10**(-34))\n",
    "    E = float(E)\n",
    "    EC = h*E\n",
    "    EC = str(EC)\n",
    "    print(EC+\"eV\")\n",
    "    \n",
    "else:\n",
    "    print(\"input a posivite value\")\n",
    "\n"
   ]
  },
  {
   "cell_type": "markdown",
   "metadata": {},
   "source": [
    "**Code for Numerical Differentiation**\n",
    "<br>\n",
    "This code calculates the numerical value of the differentiation of specific functions. \n",
    "<br>\n",
    "I defined a class for the derivative function. A class in python basically contains a set of variables and a set of functions. When using a class we can define objects called special methods, which are class methods that have double underscore before and after the method. These can be used to perform specific functions. In my code, the ```__init__``` special method lets us define initial values and the ```__call__``` special function lets us call the whole class without explicitely writing it.\n"
   ]
  },
  {
   "cell_type": "code",
   "execution_count": 10,
   "metadata": {},
   "outputs": [],
   "source": [
    "class Derivative:\n",
    "  def __init__(self, f, h=10**(-5)):\n",
    "      self.f = f\n",
    "      self.h = float(h)\n",
    "\n",
    "  def __call__(self, x):\n",
    "    f,h = self.f, self.h\n",
    "    return (f(x+h) - f(x))/h\n",
    "\n",
    "\n"
   ]
  },
  {
   "cell_type": "code",
   "execution_count": 11,
   "metadata": {},
   "outputs": [
    {
     "name": "stdout",
     "output_type": "stream",
     "text": [
      "d(sin, 0)=\n",
      "0.9999999999833332\n",
      "d(cos, 0)=\n",
      "-5.000000413701855e-06\n",
      "d(exp, 0)=\n",
      "1.000005000006965\n",
      "d(x^2, 0)=\n",
      "1e-05\n",
      "d(ln, 0)=\n"
     ]
    },
    {
     "ename": "ValueError",
     "evalue": "math domain error",
     "output_type": "error",
     "traceback": [
      "\u001b[0;31m---------------------------------------------------------------------------\u001b[0m",
      "\u001b[0;31mValueError\u001b[0m                                Traceback (most recent call last)",
      "\u001b[0;32m<ipython-input-11-f9e1f5b49939>\u001b[0m in \u001b[0;36m<module>\u001b[0;34m()\u001b[0m\n\u001b[1;32m     27\u001b[0m \u001b[0mx\u001b[0m \u001b[0;34m=\u001b[0m \u001b[0;36m0\u001b[0m\u001b[0;34m\u001b[0m\u001b[0m\n\u001b[1;32m     28\u001b[0m \u001b[0mprint\u001b[0m\u001b[0;34m(\u001b[0m\u001b[0;34m\"d(ln, 0)=\"\u001b[0m\u001b[0;34m)\u001b[0m\u001b[0;34m\u001b[0m\u001b[0m\n\u001b[0;32m---> 29\u001b[0;31m \u001b[0mprint\u001b[0m\u001b[0;34m(\u001b[0m\u001b[0mdf\u001b[0m\u001b[0;34m(\u001b[0m\u001b[0mx\u001b[0m\u001b[0;34m)\u001b[0m\u001b[0;34m)\u001b[0m\u001b[0;34m\u001b[0m\u001b[0m\n\u001b[0m",
      "\u001b[0;32m<ipython-input-10-94b00321cc14>\u001b[0m in \u001b[0;36m__call__\u001b[0;34m(self, x)\u001b[0m\n\u001b[1;32m      6\u001b[0m   \u001b[0;32mdef\u001b[0m \u001b[0m__call__\u001b[0m\u001b[0;34m(\u001b[0m\u001b[0mself\u001b[0m\u001b[0;34m,\u001b[0m \u001b[0mx\u001b[0m\u001b[0;34m)\u001b[0m\u001b[0;34m:\u001b[0m\u001b[0;34m\u001b[0m\u001b[0m\n\u001b[1;32m      7\u001b[0m     \u001b[0mf\u001b[0m\u001b[0;34m,\u001b[0m\u001b[0mh\u001b[0m \u001b[0;34m=\u001b[0m \u001b[0mself\u001b[0m\u001b[0;34m.\u001b[0m\u001b[0mf\u001b[0m\u001b[0;34m,\u001b[0m \u001b[0mself\u001b[0m\u001b[0;34m.\u001b[0m\u001b[0mh\u001b[0m\u001b[0;34m\u001b[0m\u001b[0m\n\u001b[0;32m----> 8\u001b[0;31m     \u001b[0;32mreturn\u001b[0m \u001b[0;34m(\u001b[0m\u001b[0mf\u001b[0m\u001b[0;34m(\u001b[0m\u001b[0mx\u001b[0m\u001b[0;34m+\u001b[0m\u001b[0mh\u001b[0m\u001b[0;34m)\u001b[0m \u001b[0;34m-\u001b[0m \u001b[0mf\u001b[0m\u001b[0;34m(\u001b[0m\u001b[0mx\u001b[0m\u001b[0;34m)\u001b[0m\u001b[0;34m)\u001b[0m\u001b[0;34m/\u001b[0m\u001b[0mh\u001b[0m\u001b[0;34m\u001b[0m\u001b[0m\n\u001b[0m\u001b[1;32m      9\u001b[0m \u001b[0;34m\u001b[0m\u001b[0m\n\u001b[1;32m     10\u001b[0m \u001b[0;34m\u001b[0m\u001b[0m\n",
      "\u001b[0;31mValueError\u001b[0m: math domain error"
     ]
    }
   ],
   "source": [
    "from math import sin, cos, exp, log\n",
    "\n",
    "df = Derivative(sin)\n",
    "x = 0\n",
    "print(\"d(sin, 0)=\")\n",
    "print(df(x))\n",
    "\n",
    "df = Derivative(cos)\n",
    "x = 0\n",
    "print(\"d(cos, 0)=\")\n",
    "print(df(x))\n",
    "\n",
    "df = Derivative(exp)\n",
    "x = 0\n",
    "print(\"d(exp, 0)=\")\n",
    "print(df(x))\n",
    "\n",
    "def y(x):\n",
    "    return x**2\n",
    "\n",
    "df = Derivative(y)\n",
    "x = 0\n",
    "print(\"d(x^2, 0)=\")\n",
    "print(df(x))\n",
    "\n",
    "df = Derivative(log)\n",
    "x = 0\n",
    "print(\"d(ln, 0)=\")\n",
    "print(df(x))"
   ]
  },
  {
   "cell_type": "markdown",
   "metadata": {},
   "source": [
    "As this is not an explicit differentiation; it is numerical, error is critical for this situation. Thus, reducing the error is essential for our code. \n",
    "<br>\n",
    "The easiest way to reduce the error is reduce the size of h(the deviation). This can contribute to the reduction of the truncation error. But this neglects the fact that an OS contains a limit in significant numbers in calculation. So to reduce the error, we need to find the extreme point where the error reduces to the minimum by comparing truncation error, roundup error, significant numbers, and etc. "
   ]
  },
  {
   "cell_type": "markdown",
   "metadata": {},
   "source": [
    "**Code for comparing computing time**\n",
    "<br>\n",
    "The following codes calculate the sum of a loop from 1 to one million. The first code calculates it using a 'for loop', whereas the latter uses numpy."
   ]
  },
  {
   "cell_type": "code",
   "execution_count": 5,
   "metadata": {
    "collapsed": true
   },
   "outputs": [],
   "source": [
    "import numpy as np\n",
    "def sum_code1(x):\n",
    "    return(forsum(1000000))\n",
    "    \n",
    "def forsum(x):\n",
    "    sum = 0\n",
    "    for i in range(1,1000001):\n",
    "        sum = sum + i\n",
    "    \n",
    "    return sum\n",
    "\n",
    "def numpysum(x):\n",
    "    x = range(1,1000001)\n",
    "    return np.sum(x)"
   ]
  },
  {
   "cell_type": "code",
   "execution_count": 6,
   "metadata": {
    "scrolled": true
   },
   "outputs": [
    {
     "name": "stdout",
     "output_type": "stream",
     "text": [
      "10 loops, best of 3: 85.5 ms per loop\n",
      "10 loops, best of 3: 195 ms per loop\n"
     ]
    }
   ],
   "source": [
    "%timeit-n 10 forsum(x)\n",
    "%timeit-n 10 numpysum(x)"
   ]
  },
  {
   "cell_type": "markdown",
   "metadata": {},
   "source": [
    "** Code for plotting a circle **\n",
    "The circle equation is simple, it and its tangent line on a specific point $x_1$, $y_1$ is given as\n",
    "\\begin{equation*}\n",
    "x^2+y^2=1\\\\xx_1+yy_1=1\n",
    "\\end{equation*}\n",
    "In my code, I used polar coordinates to input $x_1$ and $y_1$, as simply inputing specific $x_1$, $y_1$ will always carry an error, as the system will not fully support its digits, making the point deviate from the circle equation."
   ]
  },
  {
   "cell_type": "code",
   "execution_count": 7,
   "metadata": {},
   "outputs": [
    {
     "name": "stdout",
     "output_type": "stream",
     "text": [
      "Theta value 5\n"
     ]
    }
   ],
   "source": [
    "import numpy as np\n",
    "import matplotlib.pyplot as plt\n",
    "\n",
    "from math import sin, cos\n",
    "\n",
    "r = 1\n",
    "x = np.linspace(-r,r,1000)\n",
    "y = np.sqrt(-x**(2)+r**(2))\n",
    "\n",
    "theta1 = input(\"Theta value \")\n",
    "theta1 = float(theta1)\n",
    "x1 = r*cos(theta1)\n",
    "y1 = r*sin(theta1)\n",
    "\n",
    "b = -(x1/y1)*x+(r/y1)\n",
    "\n",
    "plt.plot(x,y,'b',x,b,'r')\n",
    "plt.plot(x,-y,'b',x,b,'r')\n",
    "plt.gca().set_aspect('equal')"
   ]
  },
  {
   "cell_type": "code",
   "execution_count": 8,
   "metadata": {},
   "outputs": [
    {
     "data": {
      "image/png": "[encoded data removed]",
      "text/plain": [
       "<matplotlib.figure.Figure at 0x10ddb53c8>"
      ]
     },
     "metadata": {},
     "output_type": "display_data"
    }
   ],
   "source": [
    "plt.show()"
   ]
  },
  {
   "cell_type": "code",
   "execution_count": null,
   "metadata": {},
   "outputs": [],
   "source": []
  },
  {
   "cell_type": "code",
   "execution_count": null,
   "metadata": {},
   "outputs": [],
   "source": []
  },
  {
   "cell_type": "code",
   "execution_count": null,
   "metadata": {
    "collapsed": true
   },
   "outputs": [],
   "source": []
  },
  {
   "cell_type": "code",
   "execution_count": null,
   "metadata": {
    "collapsed": true
   },
   "outputs": [],
   "source": []
  },
  {
   "cell_type": "code",
   "execution_count": null,
   "metadata": {
    "collapsed": true
   },
   "outputs": [],
   "source": []
  },
  {
   "cell_type": "code",
   "execution_count": null,
   "metadata": {
    "collapsed": true
   },
   "outputs": [],
   "source": []
  }
 ],
 "metadata": {
  "kernelspec": {
   "display_name": "Python 3",
   "language": "python",
   "name": "python3"
  },
  "language_info": {
   "codemirror_mode": {
    "name": "ipython",
    "version": 3
   },
   "file_extension": ".py",
   "mimetype": "text/x-python",
   "name": "python",
   "nbconvert_exporter": "python",
   "pygments_lexer": "ipython3",
   "version": "3.6.1"
  }
 },
 "nbformat": 4,
 "nbformat_minor": 2
}
