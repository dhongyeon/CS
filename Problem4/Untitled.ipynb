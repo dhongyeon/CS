{
 "cells": [
  {
   "cell_type": "code",
   "execution_count": 1,
   "metadata": {
    "collapsed": true
   },
   "outputs": [],
   "source": [
    "import cython"
   ]
  },
  {
   "cell_type": "code",
   "execution_count": 2,
   "metadata": {
    "collapsed": true
   },
   "outputs": [],
   "source": [
    "import time\n",
    "import random as rd\n",
    "import math as mt\n",
    "import numpy as np"
   ]
  },
  {
   "cell_type": "code",
   "execution_count": 3,
   "metadata": {},
   "outputs": [
    {
     "name": "stderr",
     "output_type": "stream",
     "text": [
      "ERROR:root:Cell magic `%%cython` not found.\n"
     ]
    }
   ],
   "source": [
    "%%cython\n",
    "def distance2D(x, y):\n",
    "    d = np.sqrt(x**(2)+y**(2))\n",
    "    \n",
    "    return d\n",
    "\n",
    "def distance3D(x, y, z):\n",
    "    r = np.sqrt(x**(2)+y**(2)+z**(2))\n",
    "\n",
    "    return r"
   ]
  },
  {
   "cell_type": "code",
   "execution_count": 4,
   "metadata": {},
   "outputs": [
    {
     "name": "stderr",
     "output_type": "stream",
     "text": [
      "ERROR:root:Cell magic `%%cython` not found.\n"
     ]
    }
   ],
   "source": [
    "%%cython\n",
    "def Pi2D():\n",
    "    pi = np.pi\n",
    "    error = 0.1\n",
    "    inCircle, Total = 0,0\n",
    "    while (error >= 0.001):\n",
    "    \n",
    "        start1 = time.time()\n",
    "        while True:\n",
    "            x,y = np.random.random(), np.random.random()\n",
    "        \n",
    "            if ((distance2D(x,y))**2 <= 1):\n",
    "                inCircle += 1\n",
    "        \n",
    "            Total += 1\n",
    "            estimate = 4*inCircle/Total\n",
    "        \n",
    "            if abs(estimate/pi-1) <= error:\n",
    "                print ('{est.} %g vs. {pi} %g after %d trials, {err} %g'%( \\\n",
    "                       estimate,pi,Total,error))\n",
    "                break\n",
    "    \n",
    "        end1 = time.time()    \n",
    "        print(\"Elapsed time\", end1 - start1,\"s\\n\")\n",
    "    \n",
    "        error *= 0.1"
   ]
  },
  {
   "cell_type": "code",
   "execution_count": 5,
   "metadata": {},
   "outputs": [
    {
     "name": "stderr",
     "output_type": "stream",
     "text": [
      "ERROR:root:Cell magic `%%cython` not found.\n"
     ]
    }
   ],
   "source": [
    "%%cython\n",
    "def Pi3D():\n",
    "    pi = np.pi\n",
    "    error = 0.1\n",
    "    inCircle, Total = 0,0\n",
    "    \n",
    "    while (error >= 0.1):\n",
    "        x,y,z = np.random.random(), np.random.random(), np.random.random()\n",
    "        \n",
    "        start1 = time.time()\n",
    "        while True:\n",
    "\n",
    "            if((distance3D(x,y,z)**2 <= 1)):\n",
    "                inCircle +=1\n",
    "\n",
    "            Total += 1\n",
    "\n",
    "            estimate = 6*inCircle/Total\n",
    "\n",
    "            if abs(estimate/pi - 1) <= error :\n",
    "                print ('{est.} %g vs. {pi} %g after %d trials, {err} %g'%( \\\n",
    "                       estimate,pi,Total,error))\n",
    "\n",
    "                break\n",
    "        \n",
    "        end1 = time.time() \n",
    "        print(\"Elapsed time\", end1 - start1,\"s\\n\")\n",
    "    \n",
    "        error *= 0.1"
   ]
  },
  {
   "cell_type": "code",
   "execution_count": 6,
   "metadata": {},
   "outputs": [
    {
     "ename": "NameError",
     "evalue": "name 'Pi2D' is not defined",
     "output_type": "error",
     "traceback": [
      "\u001b[0;31m---------------------------------------------------------------------------\u001b[0m",
      "\u001b[0;31mNameError\u001b[0m                                 Traceback (most recent call last)",
      "\u001b[0;32m<ipython-input-6-d22b50c81315>\u001b[0m in \u001b[0;36m<module>\u001b[0;34m()\u001b[0m\n\u001b[0;32m----> 1\u001b[0;31m \u001b[0mPi2D\u001b[0m\u001b[0;34m(\u001b[0m\u001b[0;34m)\u001b[0m\u001b[0;34m\u001b[0m\u001b[0m\n\u001b[0m",
      "\u001b[0;31mNameError\u001b[0m: name 'Pi2D' is not defined"
     ]
    }
   ],
   "source": [
    "Pi2D()"
   ]
  },
  {
   "cell_type": "code",
   "execution_count": null,
   "metadata": {},
   "outputs": [],
   "source": [
    "Pi3D()"
   ]
  },
  {
   "cell_type": "code",
   "execution_count": null,
   "metadata": {
    "collapsed": true
   },
   "outputs": [],
   "source": []
  }
 ],
 "metadata": {
  "kernelspec": {
   "display_name": "Python 3",
   "language": "python",
   "name": "python3"
  },
  "language_info": {
   "codemirror_mode": {
    "name": "ipython",
    "version": 3
   },
   "file_extension": ".py",
   "mimetype": "text/x-python",
   "name": "python",
   "nbconvert_exporter": "python",
   "pygments_lexer": "ipython3",
   "version": "3.6.1"
  }
 },
 "nbformat": 4,
 "nbformat_minor": 2
}
