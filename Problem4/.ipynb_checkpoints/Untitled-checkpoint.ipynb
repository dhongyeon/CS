{
 "cells": [
  {
   "cell_type": "code",
   "execution_count": 11,
   "metadata": {
    "collapsed": true
   },
   "outputs": [],
   "source": [
    "import cython"
   ]
  },
  {
   "cell_type": "code",
   "execution_count": 2,
   "metadata": {
    "collapsed": true
   },
   "outputs": [],
   "source": [
    "import time\n",
    "import random as rd\n",
    "import math as mt\n",
    "import numpy as np"
   ]
  },
  {
   "cell_type": "code",
   "execution_count": 3,
   "metadata": {
    "collapsed": true
   },
   "outputs": [],
   "source": [
    "%%cython\n",
    "def distance2D(x, y):\n",
    "    d = np.sqrt(x**(2)+y**(2))\n",
    "    \n",
    "    return d\n",
    "\n",
    "def distance3D(x, y, z):\n",
    "    r = np.sqrt(x**(2)+y**(2)+z**(2))\n",
    "\n",
    "    return r"
   ]
  },
  {
   "cell_type": "code",
   "execution_count": 4,
   "metadata": {
    "collapsed": true
   },
   "outputs": [],
   "source": [
    "%%cython\n",
    "def Pi2D():\n",
    "    pi = np.pi\n",
    "    error = 0.1\n",
    "    inCircle, Total = 0,0\n",
    "    while (error >= 0.001):\n",
    "    \n",
    "        start1 = time.time()\n",
    "        while True:\n",
    "            x,y = np.random.random(), np.random.random()\n",
    "        \n",
    "            if ((distance2D(x,y))**2 <= 1):\n",
    "                inCircle += 1\n",
    "        \n",
    "            Total += 1\n",
    "            estimate = 4*inCircle/Total\n",
    "        \n",
    "            if abs(estimate/pi-1) <= error:\n",
    "                print ('{est.} %g vs. {pi} %g after %d trials, {err} %g'%( \\\n",
    "                       estimate,pi,Total,error))\n",
    "                break\n",
    "    \n",
    "        end1 = time.time()    \n",
    "        print(\"Elapsed time\", end1 - start1,\"s\\n\")\n",
    "    \n",
    "        error *= 0.1"
   ]
  },
  {
   "cell_type": "code",
   "execution_count": 8,
   "metadata": {
    "collapsed": true
   },
   "outputs": [],
   "source": [
    "%%cython\n",
    "def Pi3D():\n",
    "    pi = np.pi\n",
    "    error = 0.1\n",
    "    inCircle, Total = 0,0\n",
    "    \n",
    "    while (error >= 0.1):\n",
    "        x,y,z = np.random.random(), np.random.random(), np.random.random()\n",
    "        \n",
    "        start1 = time.time()\n",
    "        while True:\n",
    "\n",
    "            if((distance3D(x,y,z)**2 <= 1)):\n",
    "                inCircle +=1\n",
    "\n",
    "            Total += 1\n",
    "\n",
    "            estimate = 6*inCircle/Total\n",
    "\n",
    "            if abs(estimate/pi - 1) <= error :\n",
    "                print ('{est.} %g vs. {pi} %g after %d trials, {err} %g'%( \\\n",
    "                       estimate,pi,Total,error))\n",
    "\n",
    "                break\n",
    "        \n",
    "        end1 = time.time() \n",
    "        print(\"Elapsed time\", end1 - start1,\"s\\n\")\n",
    "    \n",
    "        error *= 0.1"
   ]
  },
  {
   "cell_type": "code",
   "execution_count": 9,
   "metadata": {},
   "outputs": [
    {
     "name": "stdout",
     "output_type": "stream",
     "text": [
      "{est.} 3 vs. {pi} 3.14159 after 4 trials, {err} 0.1\n",
      "Elapsed time 0.0004048347473144531 s\n",
      "\n",
      "{est.} 3.17201 vs. {pi} 3.14159 after 1029 trials, {err} 0.01\n",
      "Elapsed time 0.009426116943359375 s\n",
      "\n",
      "{est.} 3.14465 vs. {pi} 3.14159 after 1113 trials, {err} 0.001\n",
      "Elapsed time 0.0011200904846191406 s\n",
      "\n"
     ]
    }
   ],
   "source": [
    "Pi2D()"
   ]
  },
  {
   "cell_type": "code",
   "execution_count": 10,
   "metadata": {},
   "outputs": [
    {
     "ename": "KeyboardInterrupt",
     "evalue": "",
     "output_type": "error",
     "traceback": [
      "\u001b[0;31m---------------------------------------------------------------------------\u001b[0m",
      "\u001b[0;31mKeyboardInterrupt\u001b[0m                         Traceback (most recent call last)",
      "\u001b[0;32m<ipython-input-10-27f9b7469aee>\u001b[0m in \u001b[0;36m<module>\u001b[0;34m()\u001b[0m\n\u001b[0;32m----> 1\u001b[0;31m \u001b[0mPi3D\u001b[0m\u001b[0;34m(\u001b[0m\u001b[0;34m)\u001b[0m\u001b[0;34m\u001b[0m\u001b[0m\n\u001b[0m",
      "\u001b[0;32m<ipython-input-8-f73aa23f860e>\u001b[0m in \u001b[0;36mPi3D\u001b[0;34m()\u001b[0m\n\u001b[1;32m     10\u001b[0m         \u001b[0;32mwhile\u001b[0m \u001b[0;32mTrue\u001b[0m\u001b[0;34m:\u001b[0m\u001b[0;34m\u001b[0m\u001b[0m\n\u001b[1;32m     11\u001b[0m \u001b[0;34m\u001b[0m\u001b[0m\n\u001b[0;32m---> 12\u001b[0;31m             \u001b[0;32mif\u001b[0m\u001b[0;34m(\u001b[0m\u001b[0;34m(\u001b[0m\u001b[0mdistance3D\u001b[0m\u001b[0;34m(\u001b[0m\u001b[0mx\u001b[0m\u001b[0;34m,\u001b[0m\u001b[0my\u001b[0m\u001b[0;34m,\u001b[0m\u001b[0mz\u001b[0m\u001b[0;34m)\u001b[0m\u001b[0;34m**\u001b[0m\u001b[0;36m2\u001b[0m \u001b[0;34m<=\u001b[0m \u001b[0;36m1\u001b[0m\u001b[0;34m)\u001b[0m\u001b[0;34m)\u001b[0m\u001b[0;34m:\u001b[0m\u001b[0;34m\u001b[0m\u001b[0m\n\u001b[0m\u001b[1;32m     13\u001b[0m                 \u001b[0minCircle\u001b[0m \u001b[0;34m+=\u001b[0m\u001b[0;36m1\u001b[0m\u001b[0;34m\u001b[0m\u001b[0m\n\u001b[1;32m     14\u001b[0m \u001b[0;34m\u001b[0m\u001b[0m\n",
      "\u001b[0;32m<ipython-input-3-5d8c177f7362>\u001b[0m in \u001b[0;36mdistance3D\u001b[0;34m(x, y, z)\u001b[0m\n\u001b[1;32m      5\u001b[0m \u001b[0;34m\u001b[0m\u001b[0m\n\u001b[1;32m      6\u001b[0m \u001b[0;32mdef\u001b[0m \u001b[0mdistance3D\u001b[0m\u001b[0;34m(\u001b[0m\u001b[0mx\u001b[0m\u001b[0;34m,\u001b[0m \u001b[0my\u001b[0m\u001b[0;34m,\u001b[0m \u001b[0mz\u001b[0m\u001b[0;34m)\u001b[0m\u001b[0;34m:\u001b[0m\u001b[0;34m\u001b[0m\u001b[0m\n\u001b[0;32m----> 7\u001b[0;31m     \u001b[0mr\u001b[0m \u001b[0;34m=\u001b[0m \u001b[0mnp\u001b[0m\u001b[0;34m.\u001b[0m\u001b[0msqrt\u001b[0m\u001b[0;34m(\u001b[0m\u001b[0mx\u001b[0m\u001b[0;34m**\u001b[0m\u001b[0;34m(\u001b[0m\u001b[0;36m2\u001b[0m\u001b[0;34m)\u001b[0m\u001b[0;34m+\u001b[0m\u001b[0my\u001b[0m\u001b[0;34m**\u001b[0m\u001b[0;34m(\u001b[0m\u001b[0;36m2\u001b[0m\u001b[0;34m)\u001b[0m\u001b[0;34m+\u001b[0m\u001b[0mz\u001b[0m\u001b[0;34m**\u001b[0m\u001b[0;34m(\u001b[0m\u001b[0;36m2\u001b[0m\u001b[0;34m)\u001b[0m\u001b[0;34m)\u001b[0m\u001b[0;34m\u001b[0m\u001b[0m\n\u001b[0m\u001b[1;32m      8\u001b[0m \u001b[0;34m\u001b[0m\u001b[0m\n\u001b[1;32m      9\u001b[0m     \u001b[0;32mreturn\u001b[0m \u001b[0mr\u001b[0m\u001b[0;34m\u001b[0m\u001b[0m\n",
      "\u001b[0;31mKeyboardInterrupt\u001b[0m: "
     ]
    }
   ],
   "source": [
    "Pi3D()"
   ]
  },
  {
   "cell_type": "code",
   "execution_count": null,
   "metadata": {
    "collapsed": true
   },
   "outputs": [],
   "source": []
  }
 ],
 "metadata": {
  "kernelspec": {
   "display_name": "Python 3",
   "language": "python",
   "name": "python3"
  },
  "language_info": {
   "codemirror_mode": {
    "name": "ipython",
    "version": 3
   },
   "file_extension": ".py",
   "mimetype": "text/x-python",
   "name": "python",
   "nbconvert_exporter": "python",
   "pygments_lexer": "ipython3",
   "version": "3.6.1"
  }
 },
 "nbformat": 4,
 "nbformat_minor": 2
}
